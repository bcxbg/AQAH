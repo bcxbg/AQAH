{
 "cells": [
  {
   "cell_type": "code",
   "execution_count": 1,
   "metadata": {},
   "outputs": [],
   "source": [
    "import json\n",
    "total_dict = {}\n",
    "with open(file = \"/data/dtt/project/LLaVA-main/hallucination/code/generate_question/generate_question_6.json\", mode = 'r',encoding = 'utf-8') as file:\n",
    "    temp_dict = json.load(file)\n",
    "    total_dict.update(temp_dict)\n"
   ]
  },
  {
   "cell_type": "code",
   "execution_count": 2,
   "metadata": {},
   "outputs": [],
   "source": [
    "with open(file = \"/data/dtt/project/LLaVA-main/hallucination/code/generate_question/generate_question_2000.json\", mode = 'r',encoding = 'utf-8') as file:\n",
    "    temp_dict = json.load(file)\n",
    "    total_dict.update(temp_dict)\n"
   ]
  },
  {
   "cell_type": "code",
   "execution_count": 3,
   "metadata": {},
   "outputs": [],
   "source": [
    "with open(file = \"/data/dtt/project/LLaVA-main/hallucination/code/generate_question/generate_question_1000.json\", mode = 'r',encoding = 'utf-8') as file:\n",
    "    temp_dict = json.load(file)\n",
    "    total_dict.update(temp_dict)\n"
   ]
  },
  {
   "cell_type": "code",
   "execution_count": null,
   "metadata": {},
   "outputs": [],
   "source": [
    "with open(file = \"/data/dtt/project/LLaVA-main/hallucination/code/generate_question/generate_question_total.json\", mode = 'a+',encoding = 'utf-8') as file:\n",
    "    json.dump(total_dict,file)"
   ]
  }
 ],
 "metadata": {
  "kernelspec": {
   "display_name": "torch",
   "language": "python",
   "name": "python3"
  },
  "language_info": {
   "codemirror_mode": {
    "name": "ipython",
    "version": 3
   },
   "file_extension": ".py",
   "mimetype": "text/x-python",
   "name": "python",
   "nbconvert_exporter": "python",
   "pygments_lexer": "ipython3",
   "version": "3.8.0"
  }
 },
 "nbformat": 4,
 "nbformat_minor": 2
}
